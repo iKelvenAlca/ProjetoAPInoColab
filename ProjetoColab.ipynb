{
  "nbformat": 4,
  "nbformat_minor": 0,
  "metadata": {
    "colab": {
      "provenance": []
    },
    "kernelspec": {
      "name": "python3",
      "display_name": "Python 3"
    },
    "language_info": {
      "name": "python"
    }
  },
  "cells": [
    {
      "cell_type": "code",
      "execution_count": 1,
      "metadata": {
        "id": "EH-8Qb776el6"
      },
      "outputs": [],
      "source": [
        "!pip install flask -q"
      ]
    },
    {
      "cell_type": "code",
      "source": [
        "from flask import Flask, jsonify"
      ],
      "metadata": {
        "id": "FbqaZCGu6l3i"
      },
      "execution_count": 2,
      "outputs": []
    },
    {
      "cell_type": "code",
      "source": [
        "app = Flask(__name__)"
      ],
      "metadata": {
        "id": "c2Dn05m-6tvk"
      },
      "execution_count": 3,
      "outputs": []
    },
    {
      "cell_type": "code",
      "source": [
        "# Dados da planilha\n",
        "data = [\n",
        "    {\"Number\": 1, \"Name\": \"Mahash\", \"Age\": 25, \"City\": \"Bangalore\", \"Country\": \"India\"},\n",
        "    {\"Number\": 2, \"Name\": \"Alex\", \"Age\": 26, \"City\": \"London\", \"Country\": \"UK\"},\n",
        "    {\"Number\": 3, \"Name\": \"David\", \"Age\": 27, \"City\": \"San Francisco\", \"Country\": \"USA\"},\n",
        "    {\"Number\": 4, \"Name\": \"John\", \"Age\": 28, \"City\": \"Toronto\", \"Country\": \"Canada\"},\n",
        "    {\"Number\": 5, \"Name\": \"Chris\", \"Age\": 29, \"City\": \"Paris\", \"Country\": \"France\"}\n",
        "]"
      ],
      "metadata": {
        "id": "Sf3k7esk6wu-"
      },
      "execution_count": 4,
      "outputs": []
    },
    {
      "cell_type": "code",
      "source": [
        "@app.route('/index')\n",
        "def get_data():\n",
        "    return jsonify(data)"
      ],
      "metadata": {
        "id": "K6CGZiHG6zY6"
      },
      "execution_count": 5,
      "outputs": []
    },
    {
      "cell_type": "code",
      "source": [
        "print(\"API Rodando em http://127.0.0.1:5000/index\")"
      ],
      "metadata": {
        "colab": {
          "base_uri": "https://localhost:8080/"
        },
        "id": "GeoSOUHeAJCP",
        "outputId": "a89215f2-5b86-446c-ec23-bf0acdfd04b4"
      },
      "execution_count": 6,
      "outputs": [
        {
          "output_type": "stream",
          "name": "stdout",
          "text": [
            "API Rodando em http://127.0.0.1:5000/index\n"
          ]
        }
      ]
    },
    {
      "cell_type": "code",
      "source": [
        "if __name__ == '__main__':\n",
        "    app.run(debug=True)"
      ],
      "metadata": {
        "colab": {
          "base_uri": "https://localhost:8080/"
        },
        "id": "t7V0S3gl61WY",
        "outputId": "67108645-d3e6-427f-fc19-18d30f6335cb"
      },
      "execution_count": 7,
      "outputs": [
        {
          "output_type": "stream",
          "name": "stdout",
          "text": [
            " * Serving Flask app '__main__'\n",
            " * Debug mode: on\n"
          ]
        },
        {
          "output_type": "stream",
          "name": "stderr",
          "text": [
            "INFO:werkzeug:\u001b[31m\u001b[1mWARNING: This is a development server. Do not use it in a production deployment. Use a production WSGI server instead.\u001b[0m\n",
            " * Running on http://127.0.0.1:5000\n",
            "INFO:werkzeug:\u001b[33mPress CTRL+C to quit\u001b[0m\n",
            "INFO:werkzeug: * Restarting with stat\n"
          ]
        }
      ]
    }
  ]
}