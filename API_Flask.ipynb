{
  "nbformat": 4,
  "nbformat_minor": 0,
  "metadata": {
    "colab": {
      "provenance": []
    },
    "kernelspec": {
      "name": "python3",
      "display_name": "Python 3"
    },
    "language_info": {
      "name": "python"
    }
  },
  "cells": [
    {
      "cell_type": "code",
      "execution_count": 2,
      "metadata": {
        "id": "7iuFGu7c4EwS"
      },
      "outputs": [],
      "source": [
        "!pip install flask_ngrok -q"
      ]
    },
    {
      "cell_type": "code",
      "source": [
        "import pandas as pd\n",
        "from flask_ngrok import run_with_ngrok\n",
        "from flask import request, jsonify, Flask\n",
        "import random as rk"
      ],
      "metadata": {
        "id": "k4O4Tybb4RZt"
      },
      "execution_count": 3,
      "outputs": []
    },
    {
      "cell_type": "code",
      "source": [
        "app = Flask(__name__)\n",
        "run_with_ngrok(app)"
      ],
      "metadata": {
        "id": "LZSz_NTd4aeU"
      },
      "execution_count": 4,
      "outputs": []
    },
    {
      "cell_type": "code",
      "source": [
        "d = {\n",
        "    \"name\": \"Nikola\",\n",
        "    \"surname\": \"Tesla\",\n",
        "    \"idade\": 60\n",
        "      }"
      ],
      "metadata": {
        "id": "s5Rv3cXT4dun"
      },
      "execution_count": 5,
      "outputs": []
    },
    {
      "cell_type": "code",
      "source": [
        "@app.route(\"/\")\n",
        "def home():\n",
        "  '''\n",
        "  The entire line below must be written in a single line.\n",
        "  '''\n",
        "  return \"<marquee><h3> TO CHECK IN PUT ADD '/input' TO THE URL AND TO CHECK OUT PUT ADD '/output' TO THE URL.</h3></marquee>\""
      ],
      "metadata": {
        "id": "id0Kdy2i4eM7"
      },
      "execution_count": 6,
      "outputs": []
    },
    {
      "cell_type": "code",
      "source": [
        "@app.route(\"/input\")\n",
        "def input():\n",
        "  return jsonify(d)"
      ],
      "metadata": {
        "id": "El4OZt5Q4kz1"
      },
      "execution_count": 7,
      "outputs": []
    },
    {
      "cell_type": "code",
      "source": [
        "@app.route('/output', methods=['GET','POST'])\n",
        "\n",
        "def predJson():\n",
        " pred = r.choice([\"positive\",\"negative\"])\n",
        " nd = d\n",
        " nd[\"prediction\"]=pred\n",
        " return jsonify(nd)\n",
        "# Novamente impossivel prosseguir sem Colab PRO\n",
        "app.run()"
      ],
      "metadata": {
        "id": "PRA79QBW4saF"
      },
      "execution_count": null,
      "outputs": []
    }
  ]
}